{
 "cells": [
  {
   "cell_type": "code",
   "execution_count": 2,
   "metadata": {},
   "outputs": [],
   "source": [
    "import pandas as pd\n",
    "\n",
    "def calc_MDD(networth):\n",
    "    df = pd.Series(networth, name=\"nw\").to_frame()\n",
    "\n",
    "    max_peaks_idx = df.nw.expanding(min_periods=1).apply(lambda x: x.argmax()).fillna(0).astype(int)\n",
    "    df['max_peaks_idx'] = pd.Series(max_peaks_idx).to_frame()\n",
    "\n",
    "    nw_peaks = pd.Series(df.nw.iloc[max_peaks_idx.values].values, index=df.nw.index)\n",
    "\n",
    "    df['dd'] = ((df.nw-nw_peaks)/nw_peaks)\n",
    "    df['mdd'] = df.groupby('max_peaks_idx').dd.apply(lambda x: x.expanding(min_periods=1).apply(lambda y: y.min())).fillna(0)\n",
    "\n",
    "    return df"
   ]
  },
  {
   "cell_type": "code",
   "execution_count": null,
   "metadata": {},
   "outputs": [],
   "source": [
    "import pandas as pd\n",
    "import pandas_datareader as  web\n",
    "import matplotlib.pyplot as pp\n",
    "import datetime\n",
    "\n",
    "# Get SPY data for past several years\n",
    "\n",
    "SPY_Dat = web.DataReader('SPY', 'yahoo', datetime.date(2007,1,1))\n",
    "\n",
    "# We are going to use a trailing 252 trading day window\n",
    "window = 252\n",
    "\n",
    "# Calculate the max drawdown in the past window days for each day in the series.\n",
    "# Use min_periods=1 if you want to let the first 252 days data have an expanding window\n",
    "Roll_Max = SPY_Dat['Adj Close'].rolling(window, min_periods=1).max()\n",
    "Daily_Drawdown = SPY_Dat['Adj Close']/Roll_Max - 1.0\n",
    "\n",
    "# Next we calculate the minimum (negative) daily drawdown in that window.\n",
    "# Again, use min_periods=1 if you want to allow the expanding window\n",
    "Max_Daily_Drawdown = Daily_Drawdown.rolling(window, min_periods=1).min()\n",
    "\n",
    "# Plot the results\n",
    "Daily_Drawdown.plot()\n",
    "Max_Daily_Drawdown.plot()\n",
    "pp.show()"
   ]
  }
 ],
 "metadata": {
  "kernelspec": {
   "display_name": "Python 3",
   "language": "python",
   "name": "python3"
  },
  "language_info": {
   "codemirror_mode": {
    "name": "ipython",
    "version": 3
   },
   "file_extension": ".py",
   "mimetype": "text/x-python",
   "name": "python",
   "nbconvert_exporter": "python",
   "pygments_lexer": "ipython3",
   "version": "3.8.8"
  }
 },
 "nbformat": 4,
 "nbformat_minor": 2
}
